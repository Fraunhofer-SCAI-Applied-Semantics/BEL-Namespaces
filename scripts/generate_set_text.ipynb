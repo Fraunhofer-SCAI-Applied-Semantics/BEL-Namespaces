{
 "cells": [
  {
   "cell_type": "code",
   "execution_count": 1,
   "metadata": {},
   "outputs": [],
   "source": [
    "import glob"
   ]
  },
  {
   "cell_type": "code",
   "execution_count": 10,
   "metadata": {},
   "outputs": [
    {
     "name": "stdout",
     "output_type": "stream",
     "text": [
      "DEFINE NAMESPACE ADO AS URL \"https://raw.githubusercontent.com/Fraunhofer-SCAI-Applied-Semantics/BEL-Namespaces/refs/heads/main/belns/ADO_2.0.1.belns\"\n",
      "DEFINE NAMESPACE BRCO AS URL \"https://raw.githubusercontent.com/Fraunhofer-SCAI-Applied-Semantics/BEL-Namespaces/refs/heads/main/belns/BRCO_20251028.belns\"\n",
      "DEFINE NAMESPACE NIFT AS URL \"https://raw.githubusercontent.com/Fraunhofer-SCAI-Applied-Semantics/BEL-Namespaces/refs/heads/main/belns/NIFT_20251028.belns\"\n",
      "DEFINE NAMESPACE HGNC AS URL \"https://raw.githubusercontent.com/Fraunhofer-SCAI-Applied-Semantics/BEL-Namespaces/refs/heads/main/belns/HGNC_20251028.belns\"\n",
      "DEFINE NAMESPACE MGI AS URL \"https://raw.githubusercontent.com/Fraunhofer-SCAI-Applied-Semantics/BEL-Namespaces/refs/heads/main/belns/MGI_20251028.belns\"\n",
      "DEFINE NAMESPACE RGD AS URL \"https://raw.githubusercontent.com/Fraunhofer-SCAI-Applied-Semantics/BEL-Namespaces/refs/heads/main/belns/RGD_20251028.belns\"\n",
      "DEFINE NAMESPACE GFAM AS URL \"https://raw.githubusercontent.com/Fraunhofer-SCAI-Applied-Semantics/BEL-Namespaces/refs/heads/main/belns/GFAM_20251028.belns\"\n",
      "DEFINE NAMESPACE SCOMP AS URL \"https://raw.githubusercontent.com/Fraunhofer-SCAI-Applied-Semantics/BEL-Namespaces/refs/heads/main/belns/SCOMP_20251028.belns\"\n",
      "DEFINE NAMESPACE SFAM AS URL \"https://raw.githubusercontent.com/Fraunhofer-SCAI-Applied-Semantics/BEL-Namespaces/refs/heads/main/belns/SFAM_20251028.belns\"\n",
      "DEFINE NAMESPACE HP AS URL \"https://raw.githubusercontent.com/Fraunhofer-SCAI-Applied-Semantics/BEL-Namespaces/refs/heads/main/belns/HP_20251028.belns\"\n",
      "DEFINE NAMESPACE CHEBI AS URL \"https://raw.githubusercontent.com/Fraunhofer-SCAI-Applied-Semantics/BEL-Namespaces/refs/heads/main/belns/CHEBI_20251028.belns\"\n",
      "DEFINE NAMESPACE CELL AS URL \"https://raw.githubusercontent.com/Fraunhofer-SCAI-Applied-Semantics/BEL-Namespaces/refs/heads/main/belns/CELL_20251028.belns\"\n",
      "DEFINE NAMESPACE DRUGBANK AS URL \"https://raw.githubusercontent.com/Fraunhofer-SCAI-Applied-Semantics/BEL-Namespaces/refs/heads/main/belns/DRUGBANK_5-1-13.belns\"\n",
      "DEFINE NAMESPACE INTERPRO AS URL \"https://raw.githubusercontent.com/Fraunhofer-SCAI-Applied-Semantics/BEL-Namespaces/refs/heads/main/belns/INTERPRO_20251028.belns\"\n",
      "DEFINE NAMESPACE PFAM AS URL \"https://raw.githubusercontent.com/Fraunhofer-SCAI-Applied-Semantics/BEL-Namespaces/refs/heads/main/belns/PFAM_20251028.belns\"\n",
      "DEFINE NAMESPACE DO AS URL \"https://raw.githubusercontent.com/Fraunhofer-SCAI-Applied-Semantics/BEL-Namespaces/refs/heads/main/belns/DO_20251028.belns\"\n",
      "DEFINE NAMESPACE GO AS URL \"https://raw.githubusercontent.com/Fraunhofer-SCAI-Applied-Semantics/BEL-Namespaces/refs/heads/main/belns/GO_20251028.belns\"\n",
      "DEFINE NAMESPACE GOBP AS URL \"https://raw.githubusercontent.com/Fraunhofer-SCAI-Applied-Semantics/BEL-Namespaces/refs/heads/main/belns/GOBP_20251028.belns\"\n",
      "DEFINE NAMESPACE GOCC AS URL \"https://raw.githubusercontent.com/Fraunhofer-SCAI-Applied-Semantics/BEL-Namespaces/refs/heads/main/belns/GOCC_20251028.belns\"\n",
      "DEFINE NAMESPACE MESH AS URL \"https://raw.githubusercontent.com/Fraunhofer-SCAI-Applied-Semantics/BEL-Namespaces/refs/heads/main/belns/MESH_20251028.belns\"\n",
      "DEFINE NAMESPACE MESHC AS URL \"https://raw.githubusercontent.com/Fraunhofer-SCAI-Applied-Semantics/BEL-Namespaces/refs/heads/main/belns/MESHC_20251028.belns\"\n",
      "DEFINE NAMESPACE MESHD AS URL \"https://raw.githubusercontent.com/Fraunhofer-SCAI-Applied-Semantics/BEL-Namespaces/refs/heads/main/belns/MESHD_20251028.belns\"\n",
      "DEFINE NAMESPACE MESHPP AS URL \"https://raw.githubusercontent.com/Fraunhofer-SCAI-Applied-Semantics/BEL-Namespaces/refs/heads/main/belns/MESHPP_20251028.belns\"\n",
      "DEFINE NAMESPACE MESHA AS URL \"https://raw.githubusercontent.com/Fraunhofer-SCAI-Applied-Semantics/BEL-Namespaces/refs/heads/main/belns/MESHA_20251028.belns\"\n",
      "DEFINE NAMESPACE MESHCS AS URL \"https://raw.githubusercontent.com/Fraunhofer-SCAI-Applied-Semantics/BEL-Namespaces/refs/heads/main/belns/MESHCS_20251028.belns\"\n",
      "DEFINE NAMESPACE NCBIGENE AS URL \"https://raw.githubusercontent.com/Fraunhofer-SCAI-Applied-Semantics/BEL-Namespaces/refs/heads/main/belns/NCBIGENE_20251028.belns\"\n",
      "DEFINE NAMESPACE COVID AS URL \"https://raw.githubusercontent.com/Fraunhofer-SCAI-Applied-Semantics/BEL-Namespaces/refs/heads/main/belns/COVID_20200326.belns\"\n",
      "DEFINE NAMESPACE PW AS URL \"https://raw.githubusercontent.com/Fraunhofer-SCAI-Applied-Semantics/BEL-Namespaces/refs/heads/main/belns/PW_7.93.belns\"\n",
      "\n"
     ]
    }
   ],
   "source": [
    "namespaces = [\n",
    "    \"ADO\",\n",
    "    \"BRCO\",\n",
    "    \"NIFT\",\n",
    "    \"HGNC\",\n",
    "    \"MGI\",\n",
    "    \"RGD\",\n",
    "    \"GFAM\",\n",
    "    \"SCOMP\",\n",
    "    \"SFAM\",\n",
    "    \"HP\",\n",
    "    \"CHEBI\",\n",
    "    \"CELL\",\n",
    "    \"DRUGBANK\",\n",
    "    \"INTERPRO\",\n",
    "    \"PFAM\",\n",
    "    \"DO\",\n",
    "    \"GO\",\n",
    "    \"GOBP\",\n",
    "    \"GOCC\",\n",
    "    \"MESH\",\n",
    "    \"MESHC\",\n",
    "    \"MESHD\",\n",
    "    \"MESHPP\",\n",
    "    \"MESHA\",\n",
    "    \"MESHCS\",\n",
    "    \"NCBIGENE\",\n",
    "    \"COVID\",\n",
    "    \"PW\"\n",
    "]\n",
    "files = [file.split(\"\\\\\")[-1] for file in glob.glob(r\"C:\\Users\\kshalaby\\ownCloud\\BEL-Namespaces\\belns\\*.belns\")]\n",
    "\n",
    "string = \"\"\n",
    "for namespace in namespaces:\n",
    "    serarch_prefix = f\"{namespace}_\"\n",
    "    selected_file = [file for file in files if file.startswith(serarch_prefix)][0]\n",
    "    string += f'DEFINE NAMESPACE {namespace} AS URL \"https://raw.githubusercontent.com/Fraunhofer-SCAI-Applied-Semantics/BEL-Namespaces/refs/heads/main/belns/{selected_file}\"\\n'\n",
    "print(string)"
   ]
  },
  {
   "cell_type": "code",
   "execution_count": 6,
   "metadata": {},
   "outputs": [
    {
     "name": "stdout",
     "output_type": "stream",
     "text": [
      "DEFINE NAMESPACE Anatomy AS URL \"https://raw.githubusercontent.com/Fraunhofer-SCAI-Applied-Semantics/BEL-Namespaces/refs/heads/main/belanno/Anatomy_2025-08-15.belanno\"\n",
      "DEFINE NAMESPACE BioAssay AS URL \"https://raw.githubusercontent.com/Fraunhofer-SCAI-Applied-Semantics/BEL-Namespaces/refs/heads/main/belanno/BioAssay_20251027.belanno\"\n",
      "DEFINE NAMESPACE Confidence AS URL \"https://raw.githubusercontent.com/Fraunhofer-SCAI-Applied-Semantics/BEL-Namespaces/refs/heads/main/belanno/Confidence_1.0.0.belanno\"\n",
      "DEFINE NAMESPACE Cell AS URL \"https://raw.githubusercontent.com/Fraunhofer-SCAI-Applied-Semantics/BEL-Namespaces/refs/heads/main/belanno/Cell_20251027.belanno\"\n",
      "DEFINE NAMESPACE CellLine AS URL \"https://raw.githubusercontent.com/Fraunhofer-SCAI-Applied-Semantics/BEL-Namespaces/refs/heads/main/belanno/CellLine_2.1.188.belanno\"\n",
      "DEFINE NAMESPACE Disease AS URL \"https://raw.githubusercontent.com/Fraunhofer-SCAI-Applied-Semantics/BEL-Namespaces/refs/heads/main/belanno/Disease_20251027.belanno\"\n",
      "DEFINE NAMESPACE Gender AS URL \"https://raw.githubusercontent.com/Fraunhofer-SCAI-Applied-Semantics/BEL-Namespaces/refs/heads/main/belanno/Gender_1.0.0.belanno\"\n",
      "DEFINE NAMESPACE MESHCellularStructures AS URL \"https://raw.githubusercontent.com/Fraunhofer-SCAI-Applied-Semantics/BEL-Namespaces/refs/heads/main/belanno/MESHCellularStructures_20251027.belanno\"\n",
      "DEFINE NAMESPACE MESHDisease AS URL \"https://raw.githubusercontent.com/Fraunhofer-SCAI-Applied-Semantics/BEL-Namespaces/refs/heads/main/belanno/MESHDisease_20251027.belanno\"\n",
      "DEFINE NAMESPACE MESHAnatomy AS URL \"https://raw.githubusercontent.com/Fraunhofer-SCAI-Applied-Semantics/BEL-Namespaces/refs/heads/main/belanno/MESHAnatomy_20251027.belanno\"\n",
      "DEFINE NAMESPACE Neurommsig AS URL \"https://raw.githubusercontent.com/Fraunhofer-SCAI-Applied-Semantics/BEL-Namespaces/refs/heads/main/belanno/Neurommsig_1.0.1.belanno\"\n",
      "DEFINE NAMESPACE COVID AS URL \"https://raw.githubusercontent.com/Fraunhofer-SCAI-Applied-Semantics/BEL-Namespaces/refs/heads/main/belanno/COVID_20200326.belanno\"\n",
      "DEFINE NAMESPACE SNPO AS URL \"https://raw.githubusercontent.com/Fraunhofer-SCAI-Applied-Semantics/BEL-Namespaces/refs/heads/main/belanno/SNPO_20170425.belanno\"\n",
      "DEFINE NAMESPACE Species AS URL \"https://raw.githubusercontent.com/Fraunhofer-SCAI-Applied-Semantics/BEL-Namespaces/refs/heads/main/belanno/Species_20251027.belanno\"\n",
      "DEFINE NAMESPACE TextLocation AS URL \"https://raw.githubusercontent.com/Fraunhofer-SCAI-Applied-Semantics/BEL-Namespaces/refs/heads/main/belanno/TextLocation_1.0.1.belanno\"\n",
      "\n"
     ]
    }
   ],
   "source": [
    "annotations = [\n",
    "    \"Anatomy\",\n",
    "    \"BioAssay\",\n",
    "    \"Confidence\",\n",
    "    \"Cell\",\n",
    "    \"CellLine\",\n",
    "    \"Disease\",\n",
    "    \"Gender\",\n",
    "    \"MESHCellularStructures\",\n",
    "    \"MESHDisease\",\n",
    "    \"MESHAnatomy\",\n",
    "    \"Neurommsig\",\n",
    "    \"COVID\",\n",
    "    \"SNPO\",\n",
    "    \"Species\",\n",
    "    \"TextLocation\"\n",
    "]\n",
    "files = [file.split(\"\\\\\")[-1] for file in glob.glob(r\"C:\\Users\\kshalaby\\ownCloud\\BEL-Namespaces\\belanno\\*.belanno\")]\n",
    "\n",
    "string = \"\"\n",
    "for annotation in annotations:\n",
    "    serarch_prefix = f\"{annotation}_\"\n",
    "    selected_file = [file for file in files if file.startswith(serarch_prefix)][0]\n",
    "    string += f'DEFINE NAMESPACE {annotation} AS URL \"https://raw.githubusercontent.com/Fraunhofer-SCAI-Applied-Semantics/BEL-Namespaces/refs/heads/main/belanno/{selected_file}\"\\n'\n",
    "print(string)"
   ]
  }
 ],
 "metadata": {
  "kernelspec": {
   "display_name": "MEEG",
   "language": "python",
   "name": "python3"
  },
  "language_info": {
   "codemirror_mode": {
    "name": "ipython",
    "version": 3
   },
   "file_extension": ".py",
   "mimetype": "text/x-python",
   "name": "python",
   "nbconvert_exporter": "python",
   "pygments_lexer": "ipython3",
   "version": "3.11.4"
  }
 },
 "nbformat": 4,
 "nbformat_minor": 2
}
