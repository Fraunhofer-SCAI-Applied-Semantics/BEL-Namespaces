{
 "cells": [
  {
   "cell_type": "code",
   "execution_count": 2,
   "metadata": {},
   "outputs": [],
   "source": [
    "import glob"
   ]
  },
  {
   "cell_type": "code",
   "execution_count": 3,
   "metadata": {},
   "outputs": [
    {
     "name": "stdout",
     "output_type": "stream",
     "text": [
      "DEFINE NAMESPACE ADO AS URL \"https://raw.githubusercontent.com/Fraunhofer-SCAI-Applied-Semantics/BEL-Namespaces/refs/heads/main/belns/ADO_2.0.1.belns\"\n",
      "DEFINE NAMESPACE BRCO AS URL \"https://raw.githubusercontent.com/Fraunhofer-SCAI-Applied-Semantics/BEL-Namespaces/refs/heads/main/belns/BRCO_20251028.belns\"\n",
      "DEFINE NAMESPACE NIFT AS URL \"https://raw.githubusercontent.com/Fraunhofer-SCAI-Applied-Semantics/BEL-Namespaces/refs/heads/main/belns/NIFT_20251028.belns\"\n",
      "DEFINE NAMESPACE HGNC AS URL \"https://raw.githubusercontent.com/Fraunhofer-SCAI-Applied-Semantics/BEL-Namespaces/refs/heads/main/belns/HGNC_20251028.belns\"\n",
      "DEFINE NAMESPACE MGI AS URL \"https://raw.githubusercontent.com/Fraunhofer-SCAI-Applied-Semantics/BEL-Namespaces/refs/heads/main/belns/MGI_20251028.belns\"\n",
      "DEFINE NAMESPACE RGD AS URL \"https://raw.githubusercontent.com/Fraunhofer-SCAI-Applied-Semantics/BEL-Namespaces/refs/heads/main/belns/RGD_20251028.belns\"\n",
      "DEFINE NAMESPACE GFAM AS URL \"https://raw.githubusercontent.com/Fraunhofer-SCAI-Applied-Semantics/BEL-Namespaces/refs/heads/main/belns/GFAM_20251028.belns\"\n",
      "DEFINE NAMESPACE SCOMP AS URL \"https://raw.githubusercontent.com/Fraunhofer-SCAI-Applied-Semantics/BEL-Namespaces/refs/heads/main/belns/SCOMP_20251028.belns\"\n",
      "DEFINE NAMESPACE SFAM AS URL \"https://raw.githubusercontent.com/Fraunhofer-SCAI-Applied-Semantics/BEL-Namespaces/refs/heads/main/belns/SFAM_20251028.belns\"\n",
      "DEFINE NAMESPACE HP AS URL \"https://raw.githubusercontent.com/Fraunhofer-SCAI-Applied-Semantics/BEL-Namespaces/refs/heads/main/belns/HP_20251028.belns\"\n",
      "DEFINE NAMESPACE CHEBI AS URL \"https://raw.githubusercontent.com/Fraunhofer-SCAI-Applied-Semantics/BEL-Namespaces/refs/heads/main/belns/CHEBI_20251028.belns\"\n",
      "DEFINE NAMESPACE CELL AS URL \"https://raw.githubusercontent.com/Fraunhofer-SCAI-Applied-Semantics/BEL-Namespaces/refs/heads/main/belns/CELL_20251028.belns\"\n",
      "DEFINE NAMESPACE DRUGBANK AS URL \"https://raw.githubusercontent.com/Fraunhofer-SCAI-Applied-Semantics/BEL-Namespaces/refs/heads/main/belns/DRUGBANK_5-1-13.belns\"\n",
      "DEFINE NAMESPACE INTERPRO AS URL \"https://raw.githubusercontent.com/Fraunhofer-SCAI-Applied-Semantics/BEL-Namespaces/refs/heads/main/belns/INTERPRO_20251028.belns\"\n",
      "DEFINE NAMESPACE PFAM AS URL \"https://raw.githubusercontent.com/Fraunhofer-SCAI-Applied-Semantics/BEL-Namespaces/refs/heads/main/belns/PFAM_20251028.belns\"\n",
      "DEFINE NAMESPACE DO AS URL \"https://raw.githubusercontent.com/Fraunhofer-SCAI-Applied-Semantics/BEL-Namespaces/refs/heads/main/belns/DO_20251028.belns\"\n",
      "DEFINE NAMESPACE GO AS URL \"https://raw.githubusercontent.com/Fraunhofer-SCAI-Applied-Semantics/BEL-Namespaces/refs/heads/main/belns/GOBP_20251028.belns\"\n",
      "DEFINE NAMESPACE GOBP AS URL \"https://raw.githubusercontent.com/Fraunhofer-SCAI-Applied-Semantics/BEL-Namespaces/refs/heads/main/belns/GOBP_20251028.belns\"\n",
      "DEFINE NAMESPACE GOCC AS URL \"https://raw.githubusercontent.com/Fraunhofer-SCAI-Applied-Semantics/BEL-Namespaces/refs/heads/main/belns/GOCC_20251028.belns\"\n",
      "DEFINE NAMESPACE MESH AS URL \"https://raw.githubusercontent.com/Fraunhofer-SCAI-Applied-Semantics/BEL-Namespaces/refs/heads/main/belns/MESHA_20251028.belns\"\n",
      "DEFINE NAMESPACE MESHC AS URL \"https://raw.githubusercontent.com/Fraunhofer-SCAI-Applied-Semantics/BEL-Namespaces/refs/heads/main/belns/MESHCS_20251028.belns\"\n",
      "DEFINE NAMESPACE MESHD AS URL \"https://raw.githubusercontent.com/Fraunhofer-SCAI-Applied-Semantics/BEL-Namespaces/refs/heads/main/belns/MESHD_20251028.belns\"\n",
      "DEFINE NAMESPACE MESHPP AS URL \"https://raw.githubusercontent.com/Fraunhofer-SCAI-Applied-Semantics/BEL-Namespaces/refs/heads/main/belns/MESHPP_20251028.belns\"\n",
      "DEFINE NAMESPACE MESHA AS URL \"https://raw.githubusercontent.com/Fraunhofer-SCAI-Applied-Semantics/BEL-Namespaces/refs/heads/main/belns/MESHA_20251028.belns\"\n",
      "DEFINE NAMESPACE MESHCS AS URL \"https://raw.githubusercontent.com/Fraunhofer-SCAI-Applied-Semantics/BEL-Namespaces/refs/heads/main/belns/MESHCS_20251028.belns\"\n",
      "DEFINE NAMESPACE NCBIGENE AS URL \"https://raw.githubusercontent.com/Fraunhofer-SCAI-Applied-Semantics/BEL-Namespaces/refs/heads/main/belns/NCBIGENE_20251028.belns\"\n",
      "DEFINE NAMESPACE COVID AS URL \"https://raw.githubusercontent.com/Fraunhofer-SCAI-Applied-Semantics/BEL-Namespaces/refs/heads/main/belns/COVID-20200326.belns\"\n",
      "DEFINE NAMESPACE PW AS URL \"https://raw.githubusercontent.com/Fraunhofer-SCAI-Applied-Semantics/BEL-Namespaces/refs/heads/main/belns/PW_7.93.belns\"\n",
      "\n"
     ]
    }
   ],
   "source": [
    "namespaces = [\n",
    "    \"ADO\",\n",
    "    \"BRCO\",\n",
    "    \"NIFT\",\n",
    "    \"HGNC\",\n",
    "    \"MGI\",\n",
    "    \"RGD\",\n",
    "    \"GFAM\",\n",
    "    \"SCOMP\",\n",
    "    \"SFAM\",\n",
    "    \"HP\",\n",
    "    \"CHEBI\",\n",
    "    \"CELL\",\n",
    "    \"DRUGBANK\",\n",
    "    \"INTERPRO\",\n",
    "    \"PFAM\",\n",
    "    \"DO\",\n",
    "    \"GO\",\n",
    "    \"GOBP\",\n",
    "    \"GOCC\",\n",
    "    \"MESH\",\n",
    "    \"MESHC\",\n",
    "    \"MESHD\",\n",
    "    \"MESHPP\",\n",
    "    \"MESHA\",\n",
    "    \"MESHCS\",\n",
    "    \"NCBIGENE\",\n",
    "    \"COVID\",\n",
    "    \"PW\"\n",
    "]\n",
    "files = [file.split(\"\\\\\")[-1] for file in glob.glob(r\"C:\\Users\\kshalaby\\ownCloud\\BEL-Namespaces\\belns\\*.belns\")]\n",
    "\n",
    "string = \"\"\n",
    "for namespace in namespaces:\n",
    "    selected_file = [file for file in files if file.startswith(namespace)][0]\n",
    "    string += f'DEFINE NAMESPACE {namespace} AS URL \"https://raw.githubusercontent.com/Fraunhofer-SCAI-Applied-Semantics/BEL-Namespaces/refs/heads/main/belns/{selected_file}\"\\n'\n",
    "print(string)"
   ]
  }
 ],
 "metadata": {
  "kernelspec": {
   "display_name": "Python 3",
   "language": "python",
   "name": "python3"
  },
  "language_info": {
   "codemirror_mode": {
    "name": "ipython",
    "version": 3
   },
   "file_extension": ".py",
   "mimetype": "text/x-python",
   "name": "python",
   "nbconvert_exporter": "python",
   "pygments_lexer": "ipython3",
   "version": "3.12.8"
  }
 },
 "nbformat": 4,
 "nbformat_minor": 2
}
